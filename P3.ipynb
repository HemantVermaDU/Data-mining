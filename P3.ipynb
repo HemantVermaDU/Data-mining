{
 "cells": [
  {
   "cell_type": "markdown",
   "metadata": {},
   "source": [
    "## Wine Problem"
   ]
  },
  {
   "cell_type": "code",
   "execution_count": 119,
   "metadata": {
    "collapsed": true
   },
   "outputs": [],
   "source": [
    "import numpy as np\n",
    "import sklearn as skl\n",
    "import pandas as pd\n",
    "from sklearn import preprocessing\n",
    "file=pd.read_csv('wine.csv')"
   ]
  },
  {
   "cell_type": "code",
   "execution_count": 120,
   "metadata": {
    "scrolled": true
   },
   "outputs": [
    {
     "data": {
      "text/plain": [
       "Wine                      1.938202\n",
       "Alcohol                  13.000618\n",
       "Malic.acid                2.336348\n",
       "Ash                       2.366517\n",
       "Acl                      19.494944\n",
       "Mg                       99.741573\n",
       "Phenols                   2.295112\n",
       "Flavanoids                2.029270\n",
       "Nonflavanoid.phenols      0.361854\n",
       "Proanth                   1.590899\n",
       "Color.int                 5.058090\n",
       "Hue                       0.957449\n",
       "OD                        2.611685\n",
       "Proline                 746.893258\n",
       "dtype: float64"
      ]
     },
     "execution_count": 120,
     "metadata": {},
     "output_type": "execute_result"
    }
   ],
   "source": [
    "file.mean()"
   ]
  },
  {
   "cell_type": "code",
   "execution_count": 121,
   "metadata": {},
   "outputs": [
    {
     "data": {
      "text/plain": [
       "Wine                      0.775035\n",
       "Alcohol                   0.811827\n",
       "Malic.acid                1.117146\n",
       "Ash                       0.274344\n",
       "Acl                       3.339564\n",
       "Mg                       14.282484\n",
       "Phenols                   0.625851\n",
       "Flavanoids                0.998859\n",
       "Nonflavanoid.phenols      0.124453\n",
       "Proanth                   0.572359\n",
       "Color.int                 2.318286\n",
       "Hue                       0.228572\n",
       "OD                        0.709990\n",
       "Proline                 314.907474\n",
       "dtype: float64"
      ]
     },
     "execution_count": 121,
     "metadata": {},
     "output_type": "execute_result"
    }
   ],
   "source": [
    "file.std()"
   ]
  },
  {
   "cell_type": "code",
   "execution_count": 123,
   "metadata": {
    "collapsed": true
   },
   "outputs": [],
   "source": [
    "file = (file - np.mean(file)) / np.std(file)"
   ]
  },
  {
   "cell_type": "code",
   "execution_count": 124,
   "metadata": {},
   "outputs": [
    {
     "data": {
      "text/plain": [
       "Wine                    1.0\n",
       "Alcohol                 1.0\n",
       "Malic.acid              1.0\n",
       "Ash                     1.0\n",
       "Acl                     1.0\n",
       "Mg                      1.0\n",
       "Phenols                 1.0\n",
       "Flavanoids              1.0\n",
       "Nonflavanoid.phenols    1.0\n",
       "Proanth                 1.0\n",
       "Color.int               1.0\n",
       "Hue                     1.0\n",
       "OD                      1.0\n",
       "Proline                 1.0\n",
       "dtype: float64"
      ]
     },
     "execution_count": 124,
     "metadata": {},
     "output_type": "execute_result"
    }
   ],
   "source": [
    "np.std(file,axis=0)"
   ]
  },
  {
   "cell_type": "code",
   "execution_count": 129,
   "metadata": {},
   "outputs": [
    {
     "data": {
      "text/plain": [
       "Wine                    0.0\n",
       "Alcohol                 0.0\n",
       "Malic.acid              0.0\n",
       "Ash                     0.0\n",
       "Acl                     0.0\n",
       "Mg                      0.0\n",
       "Phenols                 0.0\n",
       "Flavanoids              0.0\n",
       "Nonflavanoid.phenols    0.0\n",
       "Proanth                 0.0\n",
       "Color.int               0.0\n",
       "Hue                     0.0\n",
       "OD                      0.0\n",
       "Proline                 0.0\n",
       "dtype: float64"
      ]
     },
     "execution_count": 129,
     "metadata": {},
     "output_type": "execute_result"
    }
   ],
   "source": [
    "abs(round(np.mean(file)))"
   ]
  },
  {
   "cell_type": "code",
   "execution_count": null,
   "metadata": {
    "collapsed": true
   },
   "outputs": [],
   "source": []
  }
 ],
 "metadata": {
  "kernelspec": {
   "display_name": "Python 3",
   "language": "python",
   "name": "python3"
  },
  "language_info": {
   "codemirror_mode": {
    "name": "ipython",
    "version": 3
   },
   "file_extension": ".py",
   "mimetype": "text/x-python",
   "name": "python",
   "nbconvert_exporter": "python",
   "pygments_lexer": "ipython3",
   "version": "3.7.4"
  }
 },
 "nbformat": 4,
 "nbformat_minor": 2
}
